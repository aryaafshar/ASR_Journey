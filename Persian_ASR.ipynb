{
  "nbformat": 4,
  "nbformat_minor": 0,
  "metadata": {
    "colab": {
      "name": "Transcribe_large_audio_files_offline_with_Vosk.ipynb",
      "provenance": [],
      "include_colab_link": true
    },
    "kernelspec": {
      "name": "python3",
      "display_name": "Python 3"
    },
    "language_info": {
      "name": "python"
    },
    "widgets": {
      "application/vnd.jupyter.widget-state+json": {
        "12210cff9557419ab8a8df2258b84e66": {
          "model_module": "@jupyter-widgets/controls",
          "model_name": "HBoxModel",
          "model_module_version": "1.5.0",
          "state": {
            "_dom_classes": [],
            "_model_module": "@jupyter-widgets/controls",
            "_model_module_version": "1.5.0",
            "_model_name": "HBoxModel",
            "_view_count": null,
            "_view_module": "@jupyter-widgets/controls",
            "_view_module_version": "1.5.0",
            "_view_name": "HBoxView",
            "box_style": "",
            "children": [
              "IPY_MODEL_d7dd763d688a403e8c25201ca84373b7",
              "IPY_MODEL_71f61c0c84e54a2dad59bce9e53eabb5",
              "IPY_MODEL_b0c5a201339246a194989f2aaf09c573"
            ],
            "layout": "IPY_MODEL_bc29f80184064a8f9fe0117b6ffa8738"
          }
        },
        "d7dd763d688a403e8c25201ca84373b7": {
          "model_module": "@jupyter-widgets/controls",
          "model_name": "HTMLModel",
          "model_module_version": "1.5.0",
          "state": {
            "_dom_classes": [],
            "_model_module": "@jupyter-widgets/controls",
            "_model_module_version": "1.5.0",
            "_model_name": "HTMLModel",
            "_view_count": null,
            "_view_module": "@jupyter-widgets/controls",
            "_view_module_version": "1.5.0",
            "_view_name": "HTMLView",
            "description": "",
            "description_tooltip": null,
            "layout": "IPY_MODEL_2d1fd97f42e24c68866eb3156dec1bb2",
            "placeholder": "​",
            "style": "IPY_MODEL_ca9aa132eed84e5da33ef84eb8bd081a",
            "value": "Transcription finished: 100%"
          }
        },
        "71f61c0c84e54a2dad59bce9e53eabb5": {
          "model_module": "@jupyter-widgets/controls",
          "model_name": "FloatProgressModel",
          "model_module_version": "1.5.0",
          "state": {
            "_dom_classes": [],
            "_model_module": "@jupyter-widgets/controls",
            "_model_module_version": "1.5.0",
            "_model_name": "FloatProgressModel",
            "_view_count": null,
            "_view_module": "@jupyter-widgets/controls",
            "_view_module_version": "1.5.0",
            "_view_name": "ProgressView",
            "bar_style": "danger",
            "description": "",
            "description_tooltip": null,
            "layout": "IPY_MODEL_9174828cfe264b2b8d44c71bad263e27",
            "max": 15075692,
            "min": 0,
            "orientation": "horizontal",
            "style": "IPY_MODEL_352d2d34bc9743658ab39cc246fc04ca",
            "value": 15075648
          }
        },
        "b0c5a201339246a194989f2aaf09c573": {
          "model_module": "@jupyter-widgets/controls",
          "model_name": "HTMLModel",
          "model_module_version": "1.5.0",
          "state": {
            "_dom_classes": [],
            "_model_module": "@jupyter-widgets/controls",
            "_model_module_version": "1.5.0",
            "_model_name": "HTMLModel",
            "_view_count": null,
            "_view_module": "@jupyter-widgets/controls",
            "_view_module_version": "1.5.0",
            "_view_name": "HTMLView",
            "description": "",
            "description_tooltip": null,
            "layout": "IPY_MODEL_b3a7ef9e3b554bc1a313ea2bffd7eb69",
            "placeholder": "​",
            "style": "IPY_MODEL_23153f593f1b424ab28bd82a29405a3c",
            "value": " 15075648/15075692 [28:29&lt;00:00, 450241.76it/s]"
          }
        },
        "bc29f80184064a8f9fe0117b6ffa8738": {
          "model_module": "@jupyter-widgets/base",
          "model_name": "LayoutModel",
          "model_module_version": "1.2.0",
          "state": {
            "_model_module": "@jupyter-widgets/base",
            "_model_module_version": "1.2.0",
            "_model_name": "LayoutModel",
            "_view_count": null,
            "_view_module": "@jupyter-widgets/base",
            "_view_module_version": "1.2.0",
            "_view_name": "LayoutView",
            "align_content": null,
            "align_items": null,
            "align_self": null,
            "border": null,
            "bottom": null,
            "display": null,
            "flex": null,
            "flex_flow": null,
            "grid_area": null,
            "grid_auto_columns": null,
            "grid_auto_flow": null,
            "grid_auto_rows": null,
            "grid_column": null,
            "grid_gap": null,
            "grid_row": null,
            "grid_template_areas": null,
            "grid_template_columns": null,
            "grid_template_rows": null,
            "height": null,
            "justify_content": null,
            "justify_items": null,
            "left": null,
            "margin": null,
            "max_height": null,
            "max_width": null,
            "min_height": null,
            "min_width": null,
            "object_fit": null,
            "object_position": null,
            "order": null,
            "overflow": null,
            "overflow_x": null,
            "overflow_y": null,
            "padding": null,
            "right": null,
            "top": null,
            "visibility": null,
            "width": null
          }
        },
        "2d1fd97f42e24c68866eb3156dec1bb2": {
          "model_module": "@jupyter-widgets/base",
          "model_name": "LayoutModel",
          "model_module_version": "1.2.0",
          "state": {
            "_model_module": "@jupyter-widgets/base",
            "_model_module_version": "1.2.0",
            "_model_name": "LayoutModel",
            "_view_count": null,
            "_view_module": "@jupyter-widgets/base",
            "_view_module_version": "1.2.0",
            "_view_name": "LayoutView",
            "align_content": null,
            "align_items": null,
            "align_self": null,
            "border": null,
            "bottom": null,
            "display": null,
            "flex": null,
            "flex_flow": null,
            "grid_area": null,
            "grid_auto_columns": null,
            "grid_auto_flow": null,
            "grid_auto_rows": null,
            "grid_column": null,
            "grid_gap": null,
            "grid_row": null,
            "grid_template_areas": null,
            "grid_template_columns": null,
            "grid_template_rows": null,
            "height": null,
            "justify_content": null,
            "justify_items": null,
            "left": null,
            "margin": null,
            "max_height": null,
            "max_width": null,
            "min_height": null,
            "min_width": null,
            "object_fit": null,
            "object_position": null,
            "order": null,
            "overflow": null,
            "overflow_x": null,
            "overflow_y": null,
            "padding": null,
            "right": null,
            "top": null,
            "visibility": null,
            "width": null
          }
        },
        "ca9aa132eed84e5da33ef84eb8bd081a": {
          "model_module": "@jupyter-widgets/controls",
          "model_name": "DescriptionStyleModel",
          "model_module_version": "1.5.0",
          "state": {
            "_model_module": "@jupyter-widgets/controls",
            "_model_module_version": "1.5.0",
            "_model_name": "DescriptionStyleModel",
            "_view_count": null,
            "_view_module": "@jupyter-widgets/base",
            "_view_module_version": "1.2.0",
            "_view_name": "StyleView",
            "description_width": ""
          }
        },
        "9174828cfe264b2b8d44c71bad263e27": {
          "model_module": "@jupyter-widgets/base",
          "model_name": "LayoutModel",
          "model_module_version": "1.2.0",
          "state": {
            "_model_module": "@jupyter-widgets/base",
            "_model_module_version": "1.2.0",
            "_model_name": "LayoutModel",
            "_view_count": null,
            "_view_module": "@jupyter-widgets/base",
            "_view_module_version": "1.2.0",
            "_view_name": "LayoutView",
            "align_content": null,
            "align_items": null,
            "align_self": null,
            "border": null,
            "bottom": null,
            "display": null,
            "flex": null,
            "flex_flow": null,
            "grid_area": null,
            "grid_auto_columns": null,
            "grid_auto_flow": null,
            "grid_auto_rows": null,
            "grid_column": null,
            "grid_gap": null,
            "grid_row": null,
            "grid_template_areas": null,
            "grid_template_columns": null,
            "grid_template_rows": null,
            "height": null,
            "justify_content": null,
            "justify_items": null,
            "left": null,
            "margin": null,
            "max_height": null,
            "max_width": null,
            "min_height": null,
            "min_width": null,
            "object_fit": null,
            "object_position": null,
            "order": null,
            "overflow": null,
            "overflow_x": null,
            "overflow_y": null,
            "padding": null,
            "right": null,
            "top": null,
            "visibility": null,
            "width": null
          }
        },
        "352d2d34bc9743658ab39cc246fc04ca": {
          "model_module": "@jupyter-widgets/controls",
          "model_name": "ProgressStyleModel",
          "model_module_version": "1.5.0",
          "state": {
            "_model_module": "@jupyter-widgets/controls",
            "_model_module_version": "1.5.0",
            "_model_name": "ProgressStyleModel",
            "_view_count": null,
            "_view_module": "@jupyter-widgets/base",
            "_view_module_version": "1.2.0",
            "_view_name": "StyleView",
            "bar_color": null,
            "description_width": ""
          }
        },
        "b3a7ef9e3b554bc1a313ea2bffd7eb69": {
          "model_module": "@jupyter-widgets/base",
          "model_name": "LayoutModel",
          "model_module_version": "1.2.0",
          "state": {
            "_model_module": "@jupyter-widgets/base",
            "_model_module_version": "1.2.0",
            "_model_name": "LayoutModel",
            "_view_count": null,
            "_view_module": "@jupyter-widgets/base",
            "_view_module_version": "1.2.0",
            "_view_name": "LayoutView",
            "align_content": null,
            "align_items": null,
            "align_self": null,
            "border": null,
            "bottom": null,
            "display": null,
            "flex": null,
            "flex_flow": null,
            "grid_area": null,
            "grid_auto_columns": null,
            "grid_auto_flow": null,
            "grid_auto_rows": null,
            "grid_column": null,
            "grid_gap": null,
            "grid_row": null,
            "grid_template_areas": null,
            "grid_template_columns": null,
            "grid_template_rows": null,
            "height": null,
            "justify_content": null,
            "justify_items": null,
            "left": null,
            "margin": null,
            "max_height": null,
            "max_width": null,
            "min_height": null,
            "min_width": null,
            "object_fit": null,
            "object_position": null,
            "order": null,
            "overflow": null,
            "overflow_x": null,
            "overflow_y": null,
            "padding": null,
            "right": null,
            "top": null,
            "visibility": null,
            "width": null
          }
        },
        "23153f593f1b424ab28bd82a29405a3c": {
          "model_module": "@jupyter-widgets/controls",
          "model_name": "DescriptionStyleModel",
          "model_module_version": "1.5.0",
          "state": {
            "_model_module": "@jupyter-widgets/controls",
            "_model_module_version": "1.5.0",
            "_model_name": "DescriptionStyleModel",
            "_view_count": null,
            "_view_module": "@jupyter-widgets/base",
            "_view_module_version": "1.2.0",
            "_view_name": "StyleView",
            "description_width": ""
          }
        }
      }
    }
  },
  "cells": [
    {
      "cell_type": "markdown",
      "metadata": {
        "id": "view-in-github",
        "colab_type": "text"
      },
      "source": [
        "<a href=\"https://colab.research.google.com/github/zahraDehghanian97/ASR_Vosk/blob/master/Persian_ASR.ipynb\" target=\"_parent\"><img src=\"https://colab.research.google.com/assets/colab-badge.svg\" alt=\"Open In Colab\"/></a>"
      ]
    },
    {
      "cell_type": "code",
      "source": [
        "!pip install jiwer"
      ],
      "metadata": {
        "id": "ZUNq-Z3WaWv-",
        "outputId": "41b014fd-3598-4580-eaca-27aece502186",
        "colab": {
          "base_uri": "https://localhost:8080/"
        }
      },
      "execution_count": 22,
      "outputs": [
        {
          "output_type": "stream",
          "name": "stdout",
          "text": [
            "Collecting jiwer\n",
            "  Downloading jiwer-3.0.2-py3-none-any.whl (21 kB)\n",
            "Requirement already satisfied: click<9.0.0,>=8.1.3 in /usr/local/lib/python3.10/dist-packages (from jiwer) (8.1.6)\n",
            "Collecting rapidfuzz==2.13.7 (from jiwer)\n",
            "  Downloading rapidfuzz-2.13.7-cp310-cp310-manylinux_2_17_x86_64.manylinux2014_x86_64.whl (2.2 MB)\n",
            "\u001b[2K     \u001b[90m━━━━━━━━━━━━━━━━━━━━━━━━━━━━━━━━━━━━━━━━\u001b[0m \u001b[32m2.2/2.2 MB\u001b[0m \u001b[31m9.0 MB/s\u001b[0m eta \u001b[36m0:00:00\u001b[0m\n",
            "\u001b[?25hInstalling collected packages: rapidfuzz, jiwer\n",
            "Successfully installed jiwer-3.0.2 rapidfuzz-2.13.7\n"
          ]
        }
      ]
    },
    {
      "cell_type": "code",
      "execution_count": 1,
      "metadata": {
        "id": "Sy_E_iwhkJUk",
        "outputId": "2c6bb37b-71e4-4d23-e50d-403eead80323",
        "colab": {
          "base_uri": "https://localhost:8080/"
        }
      },
      "outputs": [
        {
          "output_type": "stream",
          "name": "stdout",
          "text": [
            "Collecting wget\n",
            "  Downloading wget-3.2.zip (10 kB)\n",
            "  Preparing metadata (setup.py) ... \u001b[?25l\u001b[?25hdone\n",
            "Collecting pydub\n",
            "  Downloading pydub-0.25.1-py2.py3-none-any.whl (32 kB)\n",
            "Collecting wave\n",
            "  Downloading Wave-0.0.2.zip (38 kB)\n",
            "  Preparing metadata (setup.py) ... \u001b[?25l\u001b[?25hdone\n",
            "Requirement already satisfied: tqdm in /usr/local/lib/python3.10/dist-packages (4.66.0)\n",
            "Collecting vosk\n",
            "  Downloading vosk-0.3.45-py3-none-manylinux_2_12_x86_64.manylinux2010_x86_64.whl (7.2 MB)\n",
            "\u001b[2K     \u001b[90m━━━━━━━━━━━━━━━━━━━━━━━━━━━━━━━━━━━━━━━━\u001b[0m \u001b[32m7.2/7.2 MB\u001b[0m \u001b[31m56.8 MB/s\u001b[0m eta \u001b[36m0:00:00\u001b[0m\n",
            "\u001b[?25hRequirement already satisfied: cffi>=1.0 in /usr/local/lib/python3.10/dist-packages (from vosk) (1.15.1)\n",
            "Requirement already satisfied: requests in /usr/local/lib/python3.10/dist-packages (from vosk) (2.31.0)\n",
            "Collecting srt (from vosk)\n",
            "  Downloading srt-3.5.3.tar.gz (28 kB)\n",
            "  Preparing metadata (setup.py) ... \u001b[?25l\u001b[?25hdone\n",
            "Collecting websockets (from vosk)\n",
            "  Downloading websockets-11.0.3-cp310-cp310-manylinux_2_5_x86_64.manylinux1_x86_64.manylinux_2_17_x86_64.manylinux2014_x86_64.whl (129 kB)\n",
            "\u001b[2K     \u001b[90m━━━━━━━━━━━━━━━━━━━━━━━━━━━━━━━━━━━━━━\u001b[0m \u001b[32m129.9/129.9 kB\u001b[0m \u001b[31m12.6 MB/s\u001b[0m eta \u001b[36m0:00:00\u001b[0m\n",
            "\u001b[?25hRequirement already satisfied: pycparser in /usr/local/lib/python3.10/dist-packages (from cffi>=1.0->vosk) (2.21)\n",
            "Requirement already satisfied: charset-normalizer<4,>=2 in /usr/local/lib/python3.10/dist-packages (from requests->vosk) (3.2.0)\n",
            "Requirement already satisfied: idna<4,>=2.5 in /usr/local/lib/python3.10/dist-packages (from requests->vosk) (3.4)\n",
            "Requirement already satisfied: urllib3<3,>=1.21.1 in /usr/local/lib/python3.10/dist-packages (from requests->vosk) (2.0.4)\n",
            "Requirement already satisfied: certifi>=2017.4.17 in /usr/local/lib/python3.10/dist-packages (from requests->vosk) (2023.7.22)\n",
            "Building wheels for collected packages: wget, wave, srt\n",
            "  Building wheel for wget (setup.py) ... \u001b[?25l\u001b[?25hdone\n",
            "  Created wheel for wget: filename=wget-3.2-py3-none-any.whl size=9655 sha256=24715810be3a0d61a3999a04a8fed2560dfd4ad5aac7f304aea4b8026710ad24\n",
            "  Stored in directory: /root/.cache/pip/wheels/8b/f1/7f/5c94f0a7a505ca1c81cd1d9208ae2064675d97582078e6c769\n",
            "  Building wheel for wave (setup.py) ... \u001b[?25l\u001b[?25hdone\n",
            "  Created wheel for wave: filename=Wave-0.0.2-py3-none-any.whl size=1220 sha256=ba9fcaa3ef78cf93a0ccacbe11840787e6b0c4cf10c0083001abf4555ecb9233\n",
            "  Stored in directory: /root/.cache/pip/wheels/f8/24/4d/1b01c0e32da3eb3fd71bbbc6093fcc557ec3b2d9e532ecd65d\n",
            "  Building wheel for srt (setup.py) ... \u001b[?25l\u001b[?25hdone\n",
            "  Created wheel for srt: filename=srt-3.5.3-py3-none-any.whl size=22428 sha256=bdac880749d18b6256f5aa540ab3b98518d853324f2f1810101371247b50fcf7\n",
            "  Stored in directory: /root/.cache/pip/wheels/d7/31/a1/18e1e7e8bfdafd19e6803d7eb919b563dd11de380e4304e332\n",
            "Successfully built wget wave srt\n",
            "Installing collected packages: wget, wave, pydub, websockets, srt, vosk\n",
            "Successfully installed pydub-0.25.1 srt-3.5.3 vosk-0.3.45 wave-0.0.2 websockets-11.0.3 wget-3.2\n",
            "E: Invalid operation ffmpeg\n",
            "--2023-08-12 09:57:44--  https://alphacephei.com/vosk/models/vosk-model-fa-0.5.zip\n",
            "Resolving alphacephei.com (alphacephei.com)... 188.40.21.16, 2a01:4f8:13a:279f::2\n",
            "Connecting to alphacephei.com (alphacephei.com)|188.40.21.16|:443... connected.\n",
            "HTTP request sent, awaiting response... 200 OK\n",
            "Length: 1130835264 (1.1G) [application/zip]\n",
            "Saving to: ‘models/vosk-model-fa-0.5.zip’\n",
            "\n",
            "vosk-model-fa-0.5.z 100%[===================>]   1.05G  27.3MB/s    in 40s     \n",
            "\n",
            "2023-08-12 09:58:25 (27.1 MB/s) - ‘models/vosk-model-fa-0.5.zip’ saved [1130835264/1130835264]\n",
            "\n",
            "Archive:  models/vosk-model-fa-0.5.zip\n",
            "   creating: models/vosk-model-fa-0.5/\n",
            "   creating: models/vosk-model-fa-0.5/rescore/\n",
            "  inflating: models/vosk-model-fa-0.5/rescore/G.carpa  \n",
            "  inflating: models/vosk-model-fa-0.5/rescore/G.fst  \n",
            "   creating: models/vosk-model-fa-0.5/test/\n",
            " extracting: models/vosk-model-fa-0.5/test/test.txt  \n",
            "  inflating: models/vosk-model-fa-0.5/test/test.wav  \n",
            "  inflating: models/vosk-model-fa-0.5/test/test_simple.py  \n",
            "   creating: models/vosk-model-fa-0.5/am/\n",
            "  inflating: models/vosk-model-fa-0.5/am/final.mdl  \n",
            "  inflating: models/vosk-model-fa-0.5/am/tree  \n",
            "   creating: models/vosk-model-fa-0.5/graph/\n",
            "  inflating: models/vosk-model-fa-0.5/graph/words.txt  \n",
            "  inflating: models/vosk-model-fa-0.5/graph/HCLG.fst  \n",
            "   creating: models/vosk-model-fa-0.5/graph/phones/\n",
            "  inflating: models/vosk-model-fa-0.5/graph/phones/word_boundary.int  \n",
            "   creating: models/vosk-model-fa-0.5/conf/\n",
            "  inflating: models/vosk-model-fa-0.5/conf/model.conf  \n",
            "  inflating: models/vosk-model-fa-0.5/conf/mfcc.conf  \n",
            "   creating: models/vosk-model-fa-0.5/ivector/\n",
            "  inflating: models/vosk-model-fa-0.5/ivector/splice.conf  \n",
            "  inflating: models/vosk-model-fa-0.5/ivector/final.dubm  \n",
            "  inflating: models/vosk-model-fa-0.5/ivector/global_cmvn.stats  \n",
            "  inflating: models/vosk-model-fa-0.5/ivector/final.ie  \n",
            "  inflating: models/vosk-model-fa-0.5/ivector/online_cmvn.conf  \n",
            "  inflating: models/vosk-model-fa-0.5/ivector/final.mat  \n",
            " extracting: models/vosk-model-fa-0.5/README  \n"
          ]
        }
      ],
      "source": [
        "# Install dependencies\n",
        "!pip install wget pydub wave tqdm vosk\n",
        "!apt-get ffmpeg\n",
        "\n",
        "# Download Vosk model\n",
        "!mkdir models\n",
        "!wget -P models/ https://alphacephei.com/vosk/models/vosk-model-fa-0.5.zip\n",
        "!unzip models/vosk-model-fa-0.5.zip -d models/ && rm models/vosk-model-fa-0.5.zip"
      ]
    },
    {
      "cell_type": "markdown",
      "source": [
        "# 1. Convert mp3 to wave format"
      ],
      "metadata": {
        "id": "RXeBkUx-k4ai"
      }
    },
    {
      "cell_type": "code",
      "source": [
        "from pydub import AudioSegment\n",
        "import os\n",
        "\n",
        "def mp3_to_wav(source, skip=0, excerpt=False):\n",
        "\n",
        "    sound = AudioSegment.from_mp3(source) # load source\n",
        "    sound =  sound.split_to_mono()[1] # sound.set_channels(1) ## mono\n",
        "    sound = sound.set_frame_rate(16000) # 16000Hz\n",
        "\n",
        "    if excerpt:\n",
        "        excrept = sound[skip*1000:skip*1000+30000] # 30 seconds - Does not work anymore when using skip\n",
        "        output_path = os.path.splitext(source)[0]+\"_excerpt.wav\"\n",
        "        excrept.export(output_path, format=\"wav\")\n",
        "    else:\n",
        "        audio = sound[skip*1000:]\n",
        "        output_path = os.path.splitext(source)[0]+\".wav\"\n",
        "        audio.export(output_path, format=\"wav\")\n",
        "\n",
        "    return output_path"
      ],
      "metadata": {
        "id": "fhKI10YXk3-E"
      },
      "execution_count": 17,
      "outputs": []
    },
    {
      "cell_type": "code",
      "source": [
        "wave_file = mp3_to_wav('/content/Sample.mp3',0,False) # please specify here the path to your mp3 file"
      ],
      "metadata": {
        "id": "HAQs3duElLrg"
      },
      "execution_count": 18,
      "outputs": []
    },
    {
      "cell_type": "markdown",
      "source": [
        "# 2. Transcribe audio"
      ],
      "metadata": {
        "id": "R18tqHCmlgP3"
      }
    },
    {
      "cell_type": "code",
      "source": [
        "from vosk import Model, KaldiRecognizer, SetLogLevel\n",
        "from tqdm.notebook import tqdm\n",
        "import wave\n",
        "import os\n",
        "import json\n",
        "\n",
        "def transcript_file(input_file, model_path):\n",
        "\n",
        "    # Check if file exists\n",
        "    if not os.path.isfile(input_file):\n",
        "        raise FileNotFoundError(os.path.basename(input_file) + \" not found\")\n",
        "\n",
        "    # Check if model path exists\n",
        "    if not os.path.exists(model_path):\n",
        "        raise FileNotFoundError(os.path.basename(model_path) + \" not found\")\n",
        "\n",
        "    # open audio file\n",
        "    wf = wave.open(input_file, \"rb\")\n",
        "\n",
        "    # check if wave file has the right properties\n",
        "    if wf.getnchannels() != 1 or wf.getsampwidth() != 2 or wf.getcomptype() != \"NONE\":\n",
        "        raise TypeError(\"Audio file must be WAV format mono PCM.\")\n",
        "\n",
        "    # Initialize model\n",
        "    model = Model(model_path)\n",
        "    rec = KaldiRecognizer(model, wf.getframerate())\n",
        "\n",
        "    # Get file size (to calculate progress bar)\n",
        "    file_size = os.path.getsize(input_file)\n",
        "\n",
        "    # Run transcription\n",
        "    pbar = tqdm(total=file_size)\n",
        "\n",
        "    # To store our results\n",
        "    transcription = []\n",
        "\n",
        "    while True:\n",
        "        data = wf.readframes(4000) # use buffer of 4000\n",
        "        pbar.update(len(data))\n",
        "        if len(data) == 0:\n",
        "            pbar.set_description(\"Transcription finished\")\n",
        "            break\n",
        "        if rec.AcceptWaveform(data):\n",
        "            # Convert json output to dict\n",
        "            result_dict = json.loads(rec.Result())\n",
        "            # Extract text values and append them to transcription list\n",
        "            transcription.append(result_dict.get(\"text\", \"\"))\n",
        "\n",
        "    # Get final bits of audio and flush the pipeline\n",
        "    final_result = json.loads(rec.FinalResult())\n",
        "    transcription.append(final_result.get(\"text\", \"\"))\n",
        "\n",
        "    transcription_text = ' '.join(transcription)\n",
        "\n",
        "    return transcription_text"
      ],
      "metadata": {
        "id": "ORyk1jDslWwO"
      },
      "execution_count": 19,
      "outputs": []
    },
    {
      "cell_type": "code",
      "source": [
        "hypothesis = transcript_file(wave_file, '/content/models/vosk-model-fa-0.5')"
      ],
      "metadata": {
        "colab": {
          "base_uri": "https://localhost:8080/",
          "height": 49,
          "referenced_widgets": [
            "12210cff9557419ab8a8df2258b84e66",
            "d7dd763d688a403e8c25201ca84373b7",
            "71f61c0c84e54a2dad59bce9e53eabb5",
            "b0c5a201339246a194989f2aaf09c573",
            "bc29f80184064a8f9fe0117b6ffa8738",
            "2d1fd97f42e24c68866eb3156dec1bb2",
            "ca9aa132eed84e5da33ef84eb8bd081a",
            "9174828cfe264b2b8d44c71bad263e27",
            "352d2d34bc9743658ab39cc246fc04ca",
            "b3a7ef9e3b554bc1a313ea2bffd7eb69",
            "23153f593f1b424ab28bd82a29405a3c"
          ]
        },
        "id": "XCWKxHEIleZw",
        "outputId": "9ed9406a-6e06-433b-e04f-200ad09f4554"
      },
      "execution_count": 20,
      "outputs": [
        {
          "output_type": "display_data",
          "data": {
            "text/plain": [
              "  0%|          | 0/15075692 [00:00<?, ?it/s]"
            ],
            "application/vnd.jupyter.widget-view+json": {
              "version_major": 2,
              "version_minor": 0,
              "model_id": "12210cff9557419ab8a8df2258b84e66"
            }
          },
          "metadata": {}
        }
      ]
    },
    {
      "cell_type": "code",
      "source": [
        "print(hypothesis)"
      ],
      "metadata": {
        "colab": {
          "base_uri": "https://localhost:8080/"
        },
        "id": "Cwc-qfekrNh-",
        "outputId": "e3222e58-b110-4fe8-cb26-d9186159725d"
      },
      "execution_count": 21,
      "outputs": [
        {
          "output_type": "stream",
          "name": "stdout",
          "text": [
            "حالا کیا ساموئل رفتیم بذار ببین چیه این یکی دوم اینکه توی همین تبصره یک می گوید که شورای اسلامی شهرها موظف اند و ببند درصدی از درآمد شهرداری چون بحث حریمم حذف تبصره در واگذاری به دهیاری ها رو هم به اصطلاح هلو در بر میگیره این بحث عوارض فرومنگنز نمایید رحمانی توضیح می دهد لابی بالا را یا چیزی نوع نیازمندی و چه جون دو زمینه های انصاری قرار بچه های اصلاحاتی که گفتیم اعمال می‌کنیم کیک و آبی روشن کنی چون میگه چایی نظر شود برای منابع چون منابع دولتی رو که نمیشه داد عبارت کمک های فنی اعتباری اگر بنویسم قانون علاوه بر اعتبارات مربوط یعنی اعتبارات و بالاخره هست اعتبارات راننده به شهد و خودشون باید هزینه کند ولی تبدیل به کمک می‌کنند می‌توانند انجام بدهند کمک به همون اعتبارات نه کمک های فنی اعتباری به جای اعتبارات بگذاریم که محل کمک های فنی اعتباری داری آقای مونسان آیتم ما اینجا فکر میکنم بیشتر مربوط به تحصیلات کف صندوق توسعه می‌گیریم اینم شامل کمکش نهادم و نقش نقشه مطلب خوبیم افزایش پیشنهاد نه فقط اونجا با موکل نفس مجاز وصل بشه از تسهیلات صندوق توسعه بدون در شهرداریها قرار بدیم خب الان موکلف اثباتی خورده سخته و طیور کرد موجودات از محل اعتبارات در خصوص اگر موافق باشید من قاعدتا مکلف است وقتی مجازات اسلامی قانون لازم داره نمونه تومان در اختیار شهرداری قرار نمی دانیم فرهنگ نوآورانه را معتاد تبصره اما اگر مجاز بشه میتونه کمک انجام بدم آیا الان نمی تونی یا نخیر نمی‌توان معلم من الان در اغتشاشات بالا کمیسیون استدلالش میگه دیه لازمه بفرمایی رایانه هایی که ما اینجا میشی مکلف است این وزارت تکلیف مالایطاق که نیست که یا منابعی که دارند باد و علیه و اندوه یادداشت به لحاظ داره اگر شما واگذار کردید دادید او حمایت بکند حالا اینقدر دغدغه برای شما تحلیلی به وجود نوعی اجماع پیگیری کنی اعتباراتی به در اختیارتون بگیرد دیالوگی که برای شما ضرری ندارد شما نداشتیم که در این این فیلم عادات نیست که اروپا را به من فکر می‌کنم دیاری اسلایدشو این لایه انجام می‌گیرد اصلاح تو همین چارچوبی که دوستان گفتند آیا زمانی هم تایید کردند آیا شما را گیری کنم آره نه به پروژه های نظری داره پله بند پنج نوشته نفر آنها پنجره کارت سلامت را قبول دارم که مرا چهار و من قبول داشتم ولی پنج صدور کارت سلامت وظیفه ماست عاشق دور کارت سلامت به ما بریم شد و بعدا والایی عابر کارت مهارت توام با تحصیل درجه ولی سلامت کار ما سیم کارت سلامت بیاریم بالا کارت مهارت آقا روی هارد سلامت کار ما نیست اما اضافه نکنید درک بخواد کارگر ساخته میشه و بره کارت سلامت و مگر بر ایرانیان که نمی نومیدی ولی کار ما نیز هست که سلامت شاید بشه صدور کارت مهارت های حوزه سلامت حصر به شفر الان درک آگاهی کارگران ساختمانی ما ایمیل را میان کارت مهارت بودیم بعد دیدیم بیمه کارگر ساختمانی می‌شود دید نظام معرفی می‌شوند حذف کنید سلامت از وسایل گرمایشی آریا او از های ماشینی نداره که خیلی برایمان میگم مشکل بفرمایید ولی از بس از از سلامت می نویسی روزانه تر از مطالعه مشابهی کارت مهارت امروز تایید کنید که بابای آموزش شعار دیدهای کار میره به همه جا و معتبر براش های دادم معتادی که با چه مشقتی بنابراین چیز تو فلسفی قبل از اینکه معرفی می کنیم آزمایش اعتیادی ناروا می دانید یا بریدگی که بنویسیم بتوانم بیارکه صلاحیتها فعالانی را بدید گردد و ما انجام خشونت میران از مراکز شما نامه میارد که نام نه اگه اگر هست خب بالاخره مربوط می شد مالک کنند روشن هایمان دوستان توجه کنند این جدول ستون دو این دستگاه مجری این دستگاه مجری با دستگاه های همکاری وزارت بهداشت در رسته شیوه اینان میشینه آیین نامه تعیین شده در آیین نامه بنویسند که سلامت بگذارید بهداشت در این گروه و قاریان سلامت با انگ کارت سلامت نویسان با ماسه این که معلول نبردهای آقای دکتر ببینید کارت بهداشتی میگردد نرمش غذا را به آرایشگر های ناهمگون کارت سلامت دارند کارت بهداشت اسقف نکنید بلکه کارها اجازه بده دستان من دلار روانی خودشو توجه کامل به داد و گفت بخونن دوستان توجه کنم من از بند پنجه تدوین و ارائه آیین نامه نحوه به کارگیری و استفاده از خدمات کارگران ساختمانی و فصلی برای اداره دولت صدور کارت سلامت و مهارت توام با تحصیل در آموزش و مهارت تشکیل بانک اطلاعات جامعه کارگران ساخت و سازها وظیفه بادی هیچ کس گذاشتیم بعد گفتیم این وزارت تعاون به اضافه این دستگاه بشینه در آیین نامه که می نویسند این وظایف بود دستگاه بازار مجازی ترین دستگاه نکردیم یا نه مورد سلامت را اونو درون آیین نامه باید مشخص بشه وضعیتی من خواهش می کنم در آیین نامه همه دستگاه از نوشیدن چای بزرگ دولت های دولت دولت نخریدم یا دولت حمله به دولت خود شما هستید دورتان میاد تو باید پایش اولری آن کسب کنید آقای تیمی بداریم و احتیاط این نیست شما کارت سلامت گیری مرکزی درست میشه آدما میرند معاینه میشن درون مرکز فقط احتیاط احتیاط که ارجا می دانم این مراکزی که چیز دارند مجوز یک رده دیگه درست می‌کنید یا بساط دیگه درست می‌کنند آبهای شاید جالب توی مشاوری که احتیاج به داشتن کارت سلامت هستند بدون فیلتر و او شغل در رشته ها ایران ممنوعه بیماری با یک دامین بر گوسی داره مثل مسئله نانوایی ها اصلا توی نانوایی شما بردوش دیه به کارت به دیوار از عکاسان تک تک نور و خباز وجود دارن دربیاید وزارت بهداشت تواضع که زن به دیوار ولی مشاغلی که این‌جور نیز دروس کار ساختمانی قاجار بزرگ مال بکشه و نه مستقیماً توسط آحاد مردم چیز درست مدت در تهران را بذاره این هویت رو نداره برای آزمایش احتیاط که حال رانندگی ام بیاموز میره و حال به شدت یاد بدهید یا نه اشتغالی روزهای بعد به اشکال و یا رانندگی بدن یا باد استخدام بشه همین کار را می‌کند دیگر قسمت کارت سلامت نیز این کار دیگر به خانه صادرکننده کارت مهارت در واقع است که توام با تحصیل در آموزش مهارت این تأثیر لوازم عمارت انجام می دهد وی کارت مهارت بودند حالا اگر این شغل که صبح جزوه نویسی مثل نونوایی بود خوب کار ودانش شنبه را به صورت کارت بهداشت گذاریم زن به چشم کارت بهداشت اما در هر صورت فرمژه های درست نوشتن و جنایتکار مسول تو دستگاه همکارم اینجا کنار شاغلند دستگاه وزارت بهداشت درمان خارطوم ناحیه نامشان در یک مربی هم کارت بهداشت وجوه بدهد بهداشت را اگر لازم داشت کارت مهارت چند روز از کار بدهیم چیدمان شده بله دیگر مشکلات های نیل شما فقط به همون تا هیئت وزیران که تمام بشه دیگران می تونه بغیر کلا حذف بشه چون اصلا جوملا او بعدش میگه برای تصویب در هیات وزیران باید گفت از طریق صدور کارت نیازمند جمله مولایش وقتی نداره قاعدتا تو اون آیین نامه همه اینا رو میانگین شما می‌توانید بعد از هیئت وزیران همه رو حذف کنید\n"
          ]
        }
      ]
    },
    {
      "cell_type": "code",
      "source": [
        "#remove redundant punctuation mark and refrences\n",
        "import re\n",
        "import string\n",
        "\n",
        "def generate_plain_text(refrence):\n",
        "  # Open the input file\n",
        "  with open(refrence, 'r') as file:\n",
        "      text = file.read()\n",
        "  # Remove terms between square brackets\n",
        "  text = re.sub(r'\\[.*?\\]', '', text)\n",
        "  # Remove all punctuation marks\n",
        "  text = text.translate(str.maketrans('', '', string.punctuation))\n",
        "  # Remove extra spaces\n",
        "  text = ' '.join(text.split())\n",
        "  # Open the output file and write the cleaned text\n",
        "  with open('output.txt', 'w') as file:\n",
        "      file.write(text)\n",
        "  return text"
      ],
      "metadata": {
        "id": "Bhob4cVSb8Hb"
      },
      "execution_count": 23,
      "outputs": []
    },
    {
      "cell_type": "code",
      "source": [
        "\n",
        "reference = generate_plain_text(\"Sample.txt\")\n",
        "print(reference)\n"
      ],
      "metadata": {
        "id": "KpTOisQvadyV",
        "outputId": "2e236480-3cff-4e4b-8b2e-f2909c987a79",
        "colab": {
          "base_uri": "https://localhost:8080/"
        }
      },
      "execution_count": 24,
      "outputs": [
        {
          "output_type": "stream",
          "name": "stdout",
          "text": [
            "حالا هر چه هست همان اضافه بگذارید ببینیم چیست؟ این یکی، دوم هم اینکه در همین تبصره یک می گوید که شوراهای اسلامی شهرها موظفند و بعد درصدی از درامد شهرداری، چون بحث حریم هم هست در تبصره دو دهیاری ها را هم به اصطلاح دربرمی گیرد، این بحث عوارض حالا من نمی دانم آقای رحمانی توضیح می دهند لابد بله حالا اگر چیزی نیاز به توضیح باشد، ایشان توضیح می دهند آقای انصاری در قسمت ابتدای تبصره، دو نوع تملک و واگذاری اشاره شده آقای جهانگیری قسمت اولش در واقع به شهرداری اجازه داده برود تملک کند بناهای تاریخی را که به تأیید میراث فرهنگی رسیده در قسمت دومش گفته میراث فرهنگی می تواند واگذار کند خیلی خوب، حالا پس شما این اصلاحاتی را که گفتید، اعمال می کنیم نامفهوم چی؟ روشن کنید؛ چون اینطوری که می گویید، هیچ فایده ندارد برای آن منابع، چون منابع دولتی را که نمی شود داد، عبارت کمک های فنی، اعتباری اگر بنویسند، قانوناً می توانند نه، نوشته از محل اعتبارات مربوط، یعنی اعتباراتش بالاخره هست اعتبارات را نه به شهردار خودشان باید هزینه کنند، ولی تبدیل به کمک بکنند، می توانند انجام بدهند کجا کمک کنند؟ همان اعتبارات را بکنند کمک های فنی، اعتباری به جای اعتبارات بگذاریم کمک های بله، کمک های فنی، اعتباری آقای مونسان آقای دکتر، ما اینجا فکر می کنم بیشتر مربوط به تسهیلاتی است که از صندوق توسعه می گیریم این هم ما پیشنهاد بیشتر همان کمک های فنی پیشنهادمان این هست، مطلب خوبی هم هست پیشنهادمان این است، فقط آنجا باز مکلف است، مجاز است بشود از تسهیلات صندوق توسعه بتوانیم در اختیار شهرداری ها هم قرار بدهیم خوب، بله، حالا این مکلف است یک خرده ای سخت است مجاز است از محل اعتبارات در خصوص سیاست های خود اگر موافق باشید، بله آقای دکتر، این مکلف است وقتی مجاز است، اصلاً دیگر قانون لازم دارد؟ نمی دانم مجاز است نه؛ چون ما در اختیار شهرداری ها قرار نمی دادیم، سند توسعه نمی پذیرفت به نظرم دو تا تبصره ش؛ نمی دانم اما اگر مجاز بشویم، می توانیم این کمک را انجام بدهیم نیاز است خوب مگر الان نمی توانید؟ جان؟ نخیر، نه نمی توانیم الان، نه الان در اختیار شهرداری ها حالا کمیسیون استدلالش را می گوید دیگر، اگر لازم اگر بفرمایید آقای رحمانی ببینید آقای دکتر، ما که اینجا می نویسیم مکلف است، این به اصطلاح تکلیف مالایطاق که نیست که، اینها منابعی که دارند، با توجه به اهمیتی که این جاها دارد بله، اگر در قانون گذاشته اند برایتان گفتیم اگر شما واگذار کردی، دادی، خوب، حمایتش هم بکن حالا این حداقلش این است، برای شما این تکلیف را به وجود می آورد که شما پیگیری کنید، یک اعتباراتی را در اختیارتان بگیرد دیگر، حالا این که برای شما ضرری ندارد اگر شما نداشتید که تکلیفی بر عهده تان نیست خیلی خوب، حالا من فکر می کنم دیگر حالا یک اصلاحاتی در این لایحه انجام می گیرد، یک اصلاحات در همین چارچوبی که دوستان گفتند، آقای رحمانی هم تأیید کردند آقای هاشمی، می خواهم رأی گیری کنم برای کلش؟ آره نه، بفرمایید، شما اگر نظری دارید، بفرمایید بله این بند 5 نوشته نه، 5 آهان، 5 صدور کارت سلامت کارت سلامت شما گفتی من قبول دارم که آنجا که نه، 4 را من قبول داشتم، ولی 5 صدور کارت سلامت وظیفه ماست، ما الان داریم می دهیم آهان، صدور کارت سلامت به باید نوشت در بند بالایی هان؟ نه، نوشته صدور کارت مهارت توأم با تسهیل در آن، ولی سلامت که کار ماست دیگر، معنی ندارد کارت سلامت را بیاورید بالا، کارت مهارت را نه آقای جهانگیری آقای ربیعی کارت سلامت، کار ما نیست، اما اضافه نکنید هر کی می خواهد کارگر ساختمانی بشود، بیاید بگوید کارت سلامت هم مگر به همه ایرانی ها که نمی دهید، ولی کار ما هم نیست، حذف شود، سلامتش حذف شود، صدور کارت مهارت کار ما را سخت تر می کند هان، یعنی کلاً سلامت حذف بشود چون الان درگاه کارگران ساختمانی ماییم، اینها می آیند، یک کارت مهارت می دهیم، بعد می دهیم بیمه کارگر ساختمانی می شوند، بعد می رود در آن نظام ها معرفی می شوند حذف کنیم سلامت را از اینجا حذف بشود، مشکلی آقای هاشمی، حذف شود، مشکلی ندارد که؟ هر وقت همه اینها بگویند کارت سلامت داشتند، هر وقت همه داشتند نامفهوم خیلی خوب آقای رحمانی، می گویند مشکلی نیست بفرمایید، بله ما یکی از بحث ها مثلاً سلامت که اینجا می نویسیم، مثلاً طرف معتاد است حالا شما می خواهی این کارت مهارت را به اصطلاح تأیید کنی که این بابا این آموزش ها را دیده و با این کارت می رود به همه جا و معتبر است برایش حالا یک آدم معتادی که هی باهاش مشکل دارد آقای چیز، در فنی، حرفه ای قبل از اینکه معرفی بکنیم، آزمایش اعتیاد و اینها را هم بدهیم برای بیمه خوب، می دانم اینجا چی، اینجا چی می نویسید؟ همان هم بیاید بنویسیم کارت صلاحیت فنی نه، آن را اگر بخواهید انجام بدهید، باید حتماً ما انجام بدهیم خوب نه، می روند از مراکز شما نامه می آورند نامه که نه، اگر هست، خوب بالاخره مربوط می شود به ما نامفهوم روشن کن آقای رحمانی دوستان توجه کنند این جدول ستون دو، این دستگاه مجری است این دستگاه مجری با دستگاههای همکار که وزارت بهداشت در رأسش است، اینها می نشینند، این آیین نامه را تعیین می کنند در آن آیین نامه می توانند بنویسند که سلامت را وزارت بهداشت تعیین کند اینجا که همه نه، کارت سلامت اگر کارت سلامت می نویسند، با ماست، این دیگر معلوم است، هر کسی خوب، نه، آقای دکتر ببینید، کارت بهداشت می گویند اینجا ننوشته اید با مثلاً قصابه، آرایشگره، اینها همه شان کارت سلامت دارند، کارت بهداشت دارند درست است، صنف باز قاطی نکنید، ما فرد که کارت ، بساط راه میفتد آقا، اجازه بدهید، من یکی، دو نکته اش را بگذارید حالا آقای رحمانی خودش یک توضیح کامل بدهد، بعد آن وقت یک دور بخوانم، دوستان توجه کنند ببینید، من اصلاً بند 5 تدوین و ارایه آیین نامه نحوه به کارگیری و استفاده از خدمات کارگران ساختمانی و فصلی برای ارایه به دولت صدور کارت سلامت و مهارت توأم باتسهیل در آموزش و مهارت، تشکیل بانک اطلاعات جامع کارگران ساختمانی اینجا اصلاً این وظیفه را به عهده هیچ کس نگذاشتیم، بعد گفتیم این وزارت تعاون به اضافه این دستگاهها بنشینند، در آیین نامه ای که می نویسند، این وظایف را به عهده دستگاهها بگذارند ما که اینجا اصلاً تعیین دستگاه نکردیم که، نه مهارت را، نه سلامت را آنها در آن آیین نامه باید مشخص بشود وضعیتش من خواهش می کنم این را در آیین نامه همه دستگاهها هست، آنجا بنشینند، بعدش هم باز می آید دولت آقای آیین نامه را کی تصویب می کند؟ دولت دولت نخیر، نه، می آید دولت همه اینها می آید دولت خود شما هستید، دولت هم می آید خیلی خوب پس با این حساب، حل است دیگر آره؟ اصلاً حذف کنیم چی را حذف کنیم؟ آقای چیز، بگذارید من اعتیاد این نیست، شما کارت سلامت می گویید، یعنی یک مرکزی درست می شود، آدم ها می روند معاینه می شوند در آن مرکز، فقط اعتیاد، اعتیاد که ارجاع می دهند همین مراکزی که چیز دارند، مجوز یک رده دیگری درست می کنید، یک بساط دیگر درست می کنید خیلی خوب آقای شریعتمداری، جناب عالی هم بفرمایید این در مشاغلی که احتیاج به داشتن کارت سلامت هست، یعنی بدون کارت سلامت، آن شغل درش اصلاً ممنوع است، بیماری واگیر دارد، بیماری پوستی دارد، مثل مسأله نانوایی ها اصلاً در نانوایی ها که شما وارد بشوید، یک کارت به دیوار هست، کارت سلامت تک تک نانواها و خبازها، آن کسانی که آنجا دارند در می آورند، وزارت بهداشت و درمان صادر کرده، زده اند به دیوار، ولی مشاغلی که این جور نیست، مثلاً مثل کار ساختمانی که آجر بیندازد بالا یا ماله بکشد و اینها، این مستقیماً که با سلامت مردم چیزی را درست نمی کند، در اختیار آنها بگذارد، این هویت را ندارد برای آزمایش اعتیاد، کسی می خواهد برود رانندگی هم بیاموزد، می رود آزمایش اعتیاد می دهد، اعتیاد نداشته باشد، مثلاً بعد بهش کارت گواهینامه رانندگی بدهند یا می خواهد استخدام بشود، همین کار را می کنند دیگر آن اسمش کارت سلامت نیست این کارتی که الان می خواهند صادر کنند، کارت مهارت در واقع هست که توأم با تسهیل در آموزش مهارت است این تسهیل در آموزش مهارت را انجام می دهد، بهش کارت مهارت می دهند حالا اگر این شغل که کارگر ساختمانی جزو آن نیست، مثل نانوایی بود، خوب، می گفتند کارت بهداشت را هم برود بگیرد اسم آن هم کارت بهداشت است، آنهایی که بالا سرشان می گذارند، اسمش هم کارت بهداشت است، اما در هر صورت فرمایش آقای چیز هم درست است، نوشته اند وزارت کار مسئول، در دستگاههای همکار هم اینجا کنارش آورده اند دستگاه وزارت بهداشت و درمان حالا در متن آیین نامه می توانند دقیق کنند، بگویند کارت بهداشتش را وزارت بهداشت بدهد، اگر لازم داشت، کارت مهارتش هم وزارت کار بدهد این چیزی مشکلی پیش نمی آورد بله، این تکه اش مشکل نیست آقای نیلی، شما بفرمایید آقای دکتر، این همان هیئت وزیران که تمام بشود، دیگر اصلاً می تواند بقیه اش کلاً حذف بشود؛ چون اصلاً جمله هم بعدش می گوید برای تصویب در هیئت وزیران، بعد گفته از طریق صدور کارت یعنی اصلاً به آن جمله بالاییش ربطی ندارد قاعدتاً در آن آیین نامه همه اینها را می آورند دیگر، یعنی شما می توانید بعد از هیئت وزیران، همه را حذف کنید\n"
          ]
        }
      ]
    },
    {
      "cell_type": "code",
      "source": [
        "import jiwer\n",
        "wer = jiwer.wer(reference, hypothesis)\n",
        "print(wer)"
      ],
      "metadata": {
        "id": "USexmuliZcic",
        "outputId": "7d8e14ae-ba18-4745-c9e8-367bb7e966e2",
        "colab": {
          "base_uri": "https://localhost:8080/"
        }
      },
      "execution_count": 25,
      "outputs": [
        {
          "output_type": "stream",
          "name": "stdout",
          "text": [
            "0.6847479259731972\n"
          ]
        }
      ]
    },
    {
      "cell_type": "code",
      "source": [
        "! pip install torchmetrics"
      ],
      "metadata": {
        "id": "wbsTRziZglKp",
        "outputId": "8a9ac96e-ea54-4dfd-bf77-8a465deccac8",
        "colab": {
          "base_uri": "https://localhost:8080/"
        }
      },
      "execution_count": 29,
      "outputs": [
        {
          "output_type": "stream",
          "name": "stdout",
          "text": [
            "Collecting torchmetrics\n",
            "  Downloading torchmetrics-1.0.3-py3-none-any.whl (731 kB)\n",
            "\u001b[2K     \u001b[90m━━━━━━━━━━━━━━━━━━━━━━━━━━━━━━━━━━━━━━━\u001b[0m \u001b[32m731.6/731.6 kB\u001b[0m \u001b[31m5.9 MB/s\u001b[0m eta \u001b[36m0:00:00\u001b[0m\n",
            "\u001b[?25hRequirement already satisfied: numpy>1.20.0 in /usr/local/lib/python3.10/dist-packages (from torchmetrics) (1.23.5)\n",
            "Requirement already satisfied: torch>=1.8.1 in /usr/local/lib/python3.10/dist-packages (from torchmetrics) (2.0.1+cu118)\n",
            "Requirement already satisfied: packaging in /usr/local/lib/python3.10/dist-packages (from torchmetrics) (23.1)\n",
            "Collecting lightning-utilities>=0.7.0 (from torchmetrics)\n",
            "  Downloading lightning_utilities-0.9.0-py3-none-any.whl (23 kB)\n",
            "Requirement already satisfied: typing-extensions in /usr/local/lib/python3.10/dist-packages (from lightning-utilities>=0.7.0->torchmetrics) (4.7.1)\n",
            "Requirement already satisfied: filelock in /usr/local/lib/python3.10/dist-packages (from torch>=1.8.1->torchmetrics) (3.12.2)\n",
            "Requirement already satisfied: sympy in /usr/local/lib/python3.10/dist-packages (from torch>=1.8.1->torchmetrics) (1.12)\n",
            "Requirement already satisfied: networkx in /usr/local/lib/python3.10/dist-packages (from torch>=1.8.1->torchmetrics) (3.1)\n",
            "Requirement already satisfied: jinja2 in /usr/local/lib/python3.10/dist-packages (from torch>=1.8.1->torchmetrics) (3.1.2)\n",
            "Requirement already satisfied: triton==2.0.0 in /usr/local/lib/python3.10/dist-packages (from torch>=1.8.1->torchmetrics) (2.0.0)\n",
            "Requirement already satisfied: cmake in /usr/local/lib/python3.10/dist-packages (from triton==2.0.0->torch>=1.8.1->torchmetrics) (3.27.1)\n",
            "Requirement already satisfied: lit in /usr/local/lib/python3.10/dist-packages (from triton==2.0.0->torch>=1.8.1->torchmetrics) (16.0.6)\n",
            "Requirement already satisfied: MarkupSafe>=2.0 in /usr/local/lib/python3.10/dist-packages (from jinja2->torch>=1.8.1->torchmetrics) (2.1.3)\n",
            "Requirement already satisfied: mpmath>=0.19 in /usr/local/lib/python3.10/dist-packages (from sympy->torch>=1.8.1->torchmetrics) (1.3.0)\n",
            "Installing collected packages: lightning-utilities, torchmetrics\n",
            "Successfully installed lightning-utilities-0.9.0 torchmetrics-1.0.3\n"
          ]
        }
      ]
    },
    {
      "cell_type": "code",
      "source": [
        "from torchmetrics.text.rouge import ROUGEScore\n",
        "metric = ROUGEScore()\n",
        "metric.update(reference, hypothesis)\n",
        "fig_, ax_ = metric.plot()"
      ],
      "metadata": {
        "id": "enmG87Wvg8vZ",
        "outputId": "33680e31-d568-4886-a1bd-02d90effc345",
        "colab": {
          "base_uri": "https://localhost:8080/",
          "height": 455
        }
      },
      "execution_count": 31,
      "outputs": [
        {
          "output_type": "display_data",
          "data": {
            "text/plain": [
              "<Figure size 640x480 with 1 Axes>"
            ],
            "image/png": "[encoded data removed]"
          },
          "metadata": {}
        }
      ]
    },
    {
      "cell_type": "code",
      "source": [
        "from nltk.translate.bleu_score import corpus_bleu\n",
        "# Calculate BLEU score\n",
        "bleu_score = corpus_bleu([reference], [hypothesis])\n",
        "print(\"BLEU Score:\", bleu_score)\n"
      ],
      "metadata": {
        "id": "mB2cQnLPgMXm",
        "outputId": "9b30c47c-18fe-40d6-dce9-50dd63b8d394",
        "colab": {
          "base_uri": "https://localhost:8080/"
        }
      },
      "execution_count": 28,
      "outputs": [
        {
          "output_type": "stream",
          "name": "stdout",
          "text": [
            "BLEU Score: 5.1381393936048914e-232\n"
          ]
        },
        {
          "output_type": "stream",
          "name": "stderr",
          "text": [
            "/usr/local/lib/python3.10/dist-packages/nltk/translate/bleu_score.py:552: UserWarning: \n",
            "The hypothesis contains 0 counts of 2-gram overlaps.\n",
            "Therefore the BLEU score evaluates to 0, independently of\n",
            "how many N-gram overlaps of lower order it contains.\n",
            "Consider using lower n-gram order or use SmoothingFunction()\n",
            "  warnings.warn(_msg)\n",
            "/usr/local/lib/python3.10/dist-packages/nltk/translate/bleu_score.py:552: UserWarning: \n",
            "The hypothesis contains 0 counts of 3-gram overlaps.\n",
            "Therefore the BLEU score evaluates to 0, independently of\n",
            "how many N-gram overlaps of lower order it contains.\n",
            "Consider using lower n-gram order or use SmoothingFunction()\n",
            "  warnings.warn(_msg)\n",
            "/usr/local/lib/python3.10/dist-packages/nltk/translate/bleu_score.py:552: UserWarning: \n",
            "The hypothesis contains 0 counts of 4-gram overlaps.\n",
            "Therefore the BLEU score evaluates to 0, independently of\n",
            "how many N-gram overlaps of lower order it contains.\n",
            "Consider using lower n-gram order or use SmoothingFunction()\n",
            "  warnings.warn(_msg)\n"
          ]
        }
      ]
    }
  ]
}