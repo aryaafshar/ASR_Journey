{
  "nbformat": 4,
  "nbformat_minor": 0,
  "metadata": {
    "colab": {
      "name": "Transcribe_large_audio_files_offline_with_Vosk.ipynb",
      "provenance": [],
      "include_colab_link": true
    },
    "kernelspec": {
      "name": "python3",
      "display_name": "Python 3"
    },
    "language_info": {
      "name": "python"
    },
    "widgets": {
      "application/vnd.jupyter.widget-state+json": {
        "2d21d1f86f8b4ddca98636b889af13a5": {
          "model_module": "@jupyter-widgets/controls",
          "model_name": "HBoxModel",
          "model_module_version": "1.5.0",
          "state": {
            "_dom_classes": [],
            "_model_module": "@jupyter-widgets/controls",
            "_model_module_version": "1.5.0",
            "_model_name": "HBoxModel",
            "_view_count": null,
            "_view_module": "@jupyter-widgets/controls",
            "_view_module_version": "1.5.0",
            "_view_name": "HBoxView",
            "box_style": "",
            "children": [
              "IPY_MODEL_b80c5ba9de6a4b0891109ab3846a5e81",
              "IPY_MODEL_3eac2bdeec3e407aa562948cc6d025f3",
              "IPY_MODEL_87652972736c486898d1a822aaf9fc06"
            ],
            "layout": "IPY_MODEL_112591e9935547669316f3346ff4fec9"
          }
        },
        "b80c5ba9de6a4b0891109ab3846a5e81": {
          "model_module": "@jupyter-widgets/controls",
          "model_name": "HTMLModel",
          "model_module_version": "1.5.0",
          "state": {
            "_dom_classes": [],
            "_model_module": "@jupyter-widgets/controls",
            "_model_module_version": "1.5.0",
            "_model_name": "HTMLModel",
            "_view_count": null,
            "_view_module": "@jupyter-widgets/controls",
            "_view_module_version": "1.5.0",
            "_view_name": "HTMLView",
            "description": "",
            "description_tooltip": null,
            "layout": "IPY_MODEL_1c5e418a622141e8a96ed30b94373571",
            "placeholder": "​",
            "style": "IPY_MODEL_5311bd48f7a14b018daa10e304f6a686",
            "value": "Transcription finished: 100%"
          }
        },
        "3eac2bdeec3e407aa562948cc6d025f3": {
          "model_module": "@jupyter-widgets/controls",
          "model_name": "FloatProgressModel",
          "model_module_version": "1.5.0",
          "state": {
            "_dom_classes": [],
            "_model_module": "@jupyter-widgets/controls",
            "_model_module_version": "1.5.0",
            "_model_name": "FloatProgressModel",
            "_view_count": null,
            "_view_module": "@jupyter-widgets/controls",
            "_view_module_version": "1.5.0",
            "_view_name": "ProgressView",
            "bar_style": "danger",
            "description": "",
            "description_tooltip": null,
            "layout": "IPY_MODEL_b8da105f226246e18629e327bf511dd7",
            "max": 26858092,
            "min": 0,
            "orientation": "horizontal",
            "style": "IPY_MODEL_a8ccbda7bd304b3c953cdce54c54e776",
            "value": 26858048
          }
        },
        "87652972736c486898d1a822aaf9fc06": {
          "model_module": "@jupyter-widgets/controls",
          "model_name": "HTMLModel",
          "model_module_version": "1.5.0",
          "state": {
            "_dom_classes": [],
            "_model_module": "@jupyter-widgets/controls",
            "_model_module_version": "1.5.0",
            "_model_name": "HTMLModel",
            "_view_count": null,
            "_view_module": "@jupyter-widgets/controls",
            "_view_module_version": "1.5.0",
            "_view_name": "HTMLView",
            "description": "",
            "description_tooltip": null,
            "layout": "IPY_MODEL_df4aff1eb0ae422ab31675060f08a89b",
            "placeholder": "​",
            "style": "IPY_MODEL_3ce7e736ab8845b9a72ed71ccec3847e",
            "value": " 26858048/26858092 [01:46&lt;00:00, 345380.31it/s]"
          }
        },
        "112591e9935547669316f3346ff4fec9": {
          "model_module": "@jupyter-widgets/base",
          "model_name": "LayoutModel",
          "model_module_version": "1.2.0",
          "state": {
            "_model_module": "@jupyter-widgets/base",
            "_model_module_version": "1.2.0",
            "_model_name": "LayoutModel",
            "_view_count": null,
            "_view_module": "@jupyter-widgets/base",
            "_view_module_version": "1.2.0",
            "_view_name": "LayoutView",
            "align_content": null,
            "align_items": null,
            "align_self": null,
            "border": null,
            "bottom": null,
            "display": null,
            "flex": null,
            "flex_flow": null,
            "grid_area": null,
            "grid_auto_columns": null,
            "grid_auto_flow": null,
            "grid_auto_rows": null,
            "grid_column": null,
            "grid_gap": null,
            "grid_row": null,
            "grid_template_areas": null,
            "grid_template_columns": null,
            "grid_template_rows": null,
            "height": null,
            "justify_content": null,
            "justify_items": null,
            "left": null,
            "margin": null,
            "max_height": null,
            "max_width": null,
            "min_height": null,
            "min_width": null,
            "object_fit": null,
            "object_position": null,
            "order": null,
            "overflow": null,
            "overflow_x": null,
            "overflow_y": null,
            "padding": null,
            "right": null,
            "top": null,
            "visibility": null,
            "width": null
          }
        },
        "1c5e418a622141e8a96ed30b94373571": {
          "model_module": "@jupyter-widgets/base",
          "model_name": "LayoutModel",
          "model_module_version": "1.2.0",
          "state": {
            "_model_module": "@jupyter-widgets/base",
            "_model_module_version": "1.2.0",
            "_model_name": "LayoutModel",
            "_view_count": null,
            "_view_module": "@jupyter-widgets/base",
            "_view_module_version": "1.2.0",
            "_view_name": "LayoutView",
            "align_content": null,
            "align_items": null,
            "align_self": null,
            "border": null,
            "bottom": null,
            "display": null,
            "flex": null,
            "flex_flow": null,
            "grid_area": null,
            "grid_auto_columns": null,
            "grid_auto_flow": null,
            "grid_auto_rows": null,
            "grid_column": null,
            "grid_gap": null,
            "grid_row": null,
            "grid_template_areas": null,
            "grid_template_columns": null,
            "grid_template_rows": null,
            "height": null,
            "justify_content": null,
            "justify_items": null,
            "left": null,
            "margin": null,
            "max_height": null,
            "max_width": null,
            "min_height": null,
            "min_width": null,
            "object_fit": null,
            "object_position": null,
            "order": null,
            "overflow": null,
            "overflow_x": null,
            "overflow_y": null,
            "padding": null,
            "right": null,
            "top": null,
            "visibility": null,
            "width": null
          }
        },
        "5311bd48f7a14b018daa10e304f6a686": {
          "model_module": "@jupyter-widgets/controls",
          "model_name": "DescriptionStyleModel",
          "model_module_version": "1.5.0",
          "state": {
            "_model_module": "@jupyter-widgets/controls",
            "_model_module_version": "1.5.0",
            "_model_name": "DescriptionStyleModel",
            "_view_count": null,
            "_view_module": "@jupyter-widgets/base",
            "_view_module_version": "1.2.0",
            "_view_name": "StyleView",
            "description_width": ""
          }
        },
        "b8da105f226246e18629e327bf511dd7": {
          "model_module": "@jupyter-widgets/base",
          "model_name": "LayoutModel",
          "model_module_version": "1.2.0",
          "state": {
            "_model_module": "@jupyter-widgets/base",
            "_model_module_version": "1.2.0",
            "_model_name": "LayoutModel",
            "_view_count": null,
            "_view_module": "@jupyter-widgets/base",
            "_view_module_version": "1.2.0",
            "_view_name": "LayoutView",
            "align_content": null,
            "align_items": null,
            "align_self": null,
            "border": null,
            "bottom": null,
            "display": null,
            "flex": null,
            "flex_flow": null,
            "grid_area": null,
            "grid_auto_columns": null,
            "grid_auto_flow": null,
            "grid_auto_rows": null,
            "grid_column": null,
            "grid_gap": null,
            "grid_row": null,
            "grid_template_areas": null,
            "grid_template_columns": null,
            "grid_template_rows": null,
            "height": null,
            "justify_content": null,
            "justify_items": null,
            "left": null,
            "margin": null,
            "max_height": null,
            "max_width": null,
            "min_height": null,
            "min_width": null,
            "object_fit": null,
            "object_position": null,
            "order": null,
            "overflow": null,
            "overflow_x": null,
            "overflow_y": null,
            "padding": null,
            "right": null,
            "top": null,
            "visibility": null,
            "width": null
          }
        },
        "a8ccbda7bd304b3c953cdce54c54e776": {
          "model_module": "@jupyter-widgets/controls",
          "model_name": "ProgressStyleModel",
          "model_module_version": "1.5.0",
          "state": {
            "_model_module": "@jupyter-widgets/controls",
            "_model_module_version": "1.5.0",
            "_model_name": "ProgressStyleModel",
            "_view_count": null,
            "_view_module": "@jupyter-widgets/base",
            "_view_module_version": "1.2.0",
            "_view_name": "StyleView",
            "bar_color": null,
            "description_width": ""
          }
        },
        "df4aff1eb0ae422ab31675060f08a89b": {
          "model_module": "@jupyter-widgets/base",
          "model_name": "LayoutModel",
          "model_module_version": "1.2.0",
          "state": {
            "_model_module": "@jupyter-widgets/base",
            "_model_module_version": "1.2.0",
            "_model_name": "LayoutModel",
            "_view_count": null,
            "_view_module": "@jupyter-widgets/base",
            "_view_module_version": "1.2.0",
            "_view_name": "LayoutView",
            "align_content": null,
            "align_items": null,
            "align_self": null,
            "border": null,
            "bottom": null,
            "display": null,
            "flex": null,
            "flex_flow": null,
            "grid_area": null,
            "grid_auto_columns": null,
            "grid_auto_flow": null,
            "grid_auto_rows": null,
            "grid_column": null,
            "grid_gap": null,
            "grid_row": null,
            "grid_template_areas": null,
            "grid_template_columns": null,
            "grid_template_rows": null,
            "height": null,
            "justify_content": null,
            "justify_items": null,
            "left": null,
            "margin": null,
            "max_height": null,
            "max_width": null,
            "min_height": null,
            "min_width": null,
            "object_fit": null,
            "object_position": null,
            "order": null,
            "overflow": null,
            "overflow_x": null,
            "overflow_y": null,
            "padding": null,
            "right": null,
            "top": null,
            "visibility": null,
            "width": null
          }
        },
        "3ce7e736ab8845b9a72ed71ccec3847e": {
          "model_module": "@jupyter-widgets/controls",
          "model_name": "DescriptionStyleModel",
          "model_module_version": "1.5.0",
          "state": {
            "_model_module": "@jupyter-widgets/controls",
            "_model_module_version": "1.5.0",
            "_model_name": "DescriptionStyleModel",
            "_view_count": null,
            "_view_module": "@jupyter-widgets/base",
            "_view_module_version": "1.2.0",
            "_view_name": "StyleView",
            "description_width": ""
          }
        }
      }
    }
  },
  "cells": [
    {
      "cell_type": "markdown",
      "metadata": {
        "id": "view-in-github",
        "colab_type": "text"
      },
      "source": [
        "<a href=\"https://colab.research.google.com/github/zahraDehghanian97/ASR_Vosk/blob/master/Persian_ASR.ipynb\" target=\"_parent\"><img src=\"https://colab.research.google.com/assets/colab-badge.svg\" alt=\"Open In Colab\"/></a>"
      ]
    },
    {
      "cell_type": "code",
      "execution_count": 1,
      "metadata": {
        "id": "Sy_E_iwhkJUk",
        "outputId": "916f9db0-6f55-4894-fea4-4150abe571a3",
        "colab": {
          "base_uri": "https://localhost:8080/"
        }
      },
      "outputs": [
        {
          "output_type": "stream",
          "name": "stdout",
          "text": [
            "Collecting wget\n",
            "  Downloading wget-3.2.zip (10 kB)\n",
            "  Preparing metadata (setup.py) ... \u001b[?25l\u001b[?25hdone\n",
            "Collecting pydub\n",
            "  Downloading pydub-0.25.1-py2.py3-none-any.whl (32 kB)\n",
            "Collecting wave\n",
            "  Downloading Wave-0.0.2.zip (38 kB)\n",
            "  Preparing metadata (setup.py) ... \u001b[?25l\u001b[?25hdone\n",
            "Requirement already satisfied: tqdm in /usr/local/lib/python3.10/dist-packages (4.65.0)\n",
            "Collecting vosk\n",
            "  Downloading vosk-0.3.45-py3-none-manylinux_2_12_x86_64.manylinux2010_x86_64.whl (7.2 MB)\n",
            "\u001b[2K     \u001b[90m━━━━━━━━━━━━━━━━━━━━━━━━━━━━━━━━━━━━━━━━\u001b[0m \u001b[32m7.2/7.2 MB\u001b[0m \u001b[31m19.0 MB/s\u001b[0m eta \u001b[36m0:00:00\u001b[0m\n",
            "\u001b[?25hRequirement already satisfied: cffi>=1.0 in /usr/local/lib/python3.10/dist-packages (from vosk) (1.15.1)\n",
            "Requirement already satisfied: requests in /usr/local/lib/python3.10/dist-packages (from vosk) (2.27.1)\n",
            "Collecting srt (from vosk)\n",
            "  Downloading srt-3.5.3.tar.gz (28 kB)\n",
            "  Preparing metadata (setup.py) ... \u001b[?25l\u001b[?25hdone\n",
            "Collecting websockets (from vosk)\n",
            "  Downloading websockets-11.0.3-cp310-cp310-manylinux_2_5_x86_64.manylinux1_x86_64.manylinux_2_17_x86_64.manylinux2014_x86_64.whl (129 kB)\n",
            "\u001b[2K     \u001b[90m━━━━━━━━━━━━━━━━━━━━━━━━━━━━━━━━━━━━━━━\u001b[0m \u001b[32m129.9/129.9 kB\u001b[0m \u001b[31m3.7 MB/s\u001b[0m eta \u001b[36m0:00:00\u001b[0m\n",
            "\u001b[?25hRequirement already satisfied: pycparser in /usr/local/lib/python3.10/dist-packages (from cffi>=1.0->vosk) (2.21)\n",
            "Requirement already satisfied: urllib3<1.27,>=1.21.1 in /usr/local/lib/python3.10/dist-packages (from requests->vosk) (1.26.16)\n",
            "Requirement already satisfied: certifi>=2017.4.17 in /usr/local/lib/python3.10/dist-packages (from requests->vosk) (2023.7.22)\n",
            "Requirement already satisfied: charset-normalizer~=2.0.0 in /usr/local/lib/python3.10/dist-packages (from requests->vosk) (2.0.12)\n",
            "Requirement already satisfied: idna<4,>=2.5 in /usr/local/lib/python3.10/dist-packages (from requests->vosk) (3.4)\n",
            "Building wheels for collected packages: wget, wave, srt\n",
            "  Building wheel for wget (setup.py) ... \u001b[?25l\u001b[?25hdone\n",
            "  Created wheel for wget: filename=wget-3.2-py3-none-any.whl size=9656 sha256=6886905ac41a7343850509e0a2412143fb9909acb7f4a6ecac134990b8d48fd4\n",
            "  Stored in directory: /root/.cache/pip/wheels/8b/f1/7f/5c94f0a7a505ca1c81cd1d9208ae2064675d97582078e6c769\n",
            "  Building wheel for wave (setup.py) ... \u001b[?25l\u001b[?25hdone\n",
            "  Created wheel for wave: filename=Wave-0.0.2-py3-none-any.whl size=1219 sha256=dc44f1304e2b735d2ddae14a5bc588df671d131dd9ecf8f0884e31ca44a46033\n",
            "  Stored in directory: /root/.cache/pip/wheels/f8/24/4d/1b01c0e32da3eb3fd71bbbc6093fcc557ec3b2d9e532ecd65d\n",
            "  Building wheel for srt (setup.py) ... \u001b[?25l\u001b[?25hdone\n",
            "  Created wheel for srt: filename=srt-3.5.3-py3-none-any.whl size=22427 sha256=60c04b2d0365dfdc34e1d7a854bc8518041772e172e803ebedce7e8b163eb0dc\n",
            "  Stored in directory: /root/.cache/pip/wheels/d7/31/a1/18e1e7e8bfdafd19e6803d7eb919b563dd11de380e4304e332\n",
            "Successfully built wget wave srt\n",
            "Installing collected packages: wget, wave, pydub, websockets, srt, vosk\n",
            "Successfully installed pydub-0.25.1 srt-3.5.3 vosk-0.3.45 wave-0.0.2 websockets-11.0.3 wget-3.2\n",
            "E: Invalid operation ffmpeg\n",
            "--2023-08-08 10:56:22--  https://alphacephei.com/vosk/models/vosk-model-fa-0.5.zip\n",
            "Resolving alphacephei.com (alphacephei.com)... 188.40.21.16, 2a01:4f8:13a:279f::2\n",
            "Connecting to alphacephei.com (alphacephei.com)|188.40.21.16|:443... connected.\n",
            "HTTP request sent, awaiting response... 200 OK\n",
            "Length: 1130835264 (1.1G) [application/zip]\n",
            "Saving to: ‘models/vosk-model-fa-0.5.zip’\n",
            "\n",
            "vosk-model-fa-0.5.z 100%[===================>]   1.05G  19.4MB/s    in 57s     \n",
            "\n",
            "2023-08-08 10:57:20 (18.9 MB/s) - ‘models/vosk-model-fa-0.5.zip’ saved [1130835264/1130835264]\n",
            "\n",
            "Archive:  models/vosk-model-fa-0.5.zip\n",
            "   creating: models/vosk-model-fa-0.5/\n",
            "   creating: models/vosk-model-fa-0.5/rescore/\n",
            "  inflating: models/vosk-model-fa-0.5/rescore/G.carpa  \n",
            "  inflating: models/vosk-model-fa-0.5/rescore/G.fst  \n",
            "   creating: models/vosk-model-fa-0.5/test/\n",
            " extracting: models/vosk-model-fa-0.5/test/test.txt  \n",
            "  inflating: models/vosk-model-fa-0.5/test/test.wav  \n",
            "  inflating: models/vosk-model-fa-0.5/test/test_simple.py  \n",
            "   creating: models/vosk-model-fa-0.5/am/\n",
            "  inflating: models/vosk-model-fa-0.5/am/final.mdl  \n",
            "  inflating: models/vosk-model-fa-0.5/am/tree  \n",
            "   creating: models/vosk-model-fa-0.5/graph/\n",
            "  inflating: models/vosk-model-fa-0.5/graph/words.txt  \n",
            "  inflating: models/vosk-model-fa-0.5/graph/HCLG.fst  \n",
            "   creating: models/vosk-model-fa-0.5/graph/phones/\n",
            "  inflating: models/vosk-model-fa-0.5/graph/phones/word_boundary.int  \n",
            "   creating: models/vosk-model-fa-0.5/conf/\n",
            "  inflating: models/vosk-model-fa-0.5/conf/model.conf  \n",
            "  inflating: models/vosk-model-fa-0.5/conf/mfcc.conf  \n",
            "   creating: models/vosk-model-fa-0.5/ivector/\n",
            "  inflating: models/vosk-model-fa-0.5/ivector/splice.conf  \n",
            "  inflating: models/vosk-model-fa-0.5/ivector/final.dubm  \n",
            "  inflating: models/vosk-model-fa-0.5/ivector/global_cmvn.stats  \n",
            "  inflating: models/vosk-model-fa-0.5/ivector/final.ie  \n",
            "  inflating: models/vosk-model-fa-0.5/ivector/online_cmvn.conf  \n",
            "  inflating: models/vosk-model-fa-0.5/ivector/final.mat  \n",
            " extracting: models/vosk-model-fa-0.5/README  \n"
          ]
        }
      ],
      "source": [
        "# Install dependencies\n",
        "!pip install wget pydub wave tqdm vosk\n",
        "!apt-get ffmpeg\n",
        "\n",
        "# Download Vosk model\n",
        "!mkdir models\n",
        "!wget -P models/ https://alphacephei.com/vosk/models/vosk-model-fa-0.5.zip\n",
        "!unzip models/vosk-model-fa-0.5.zip -d models/ && rm models/vosk-model-fa-0.5.zip"
      ]
    },
    {
      "cell_type": "markdown",
      "source": [
        "# 1. Convert mp3 to wave format"
      ],
      "metadata": {
        "id": "RXeBkUx-k4ai"
      }
    },
    {
      "cell_type": "code",
      "source": [
        "from pydub import AudioSegment\n",
        "import os\n",
        "\n",
        "def mp3_to_wav(source, skip=0, excerpt=False):\n",
        "\n",
        "    sound = AudioSegment.from_mp3(source) # load source\n",
        "    sound = sound.set_channels(1) # mono\n",
        "    sound = sound.set_frame_rate(16000) # 16000Hz\n",
        "\n",
        "    if excerpt:\n",
        "        excrept = sound[skip*1000:skip*1000+30000] # 30 seconds - Does not work anymore when using skip\n",
        "        output_path = os.path.splitext(source)[0]+\"_excerpt.wav\"\n",
        "        excrept.export(output_path, format=\"wav\")\n",
        "    else:\n",
        "        audio = sound[skip*1000:]\n",
        "        output_path = os.path.splitext(source)[0]+\".wav\"\n",
        "        audio.export(output_path, format=\"wav\")\n",
        "\n",
        "    return output_path"
      ],
      "metadata": {
        "id": "fhKI10YXk3-E"
      },
      "execution_count": 2,
      "outputs": []
    },
    {
      "cell_type": "code",
      "source": [
        "wave_file = mp3_to_wav('/content/01.mp3',0,False) # please specify here the path to your mp3 file"
      ],
      "metadata": {
        "id": "HAQs3duElLrg"
      },
      "execution_count": 9,
      "outputs": []
    },
    {
      "cell_type": "markdown",
      "source": [
        "# 2. Transcribe audio"
      ],
      "metadata": {
        "id": "R18tqHCmlgP3"
      }
    },
    {
      "cell_type": "code",
      "source": [
        "from vosk import Model, KaldiRecognizer, SetLogLevel\n",
        "from tqdm.notebook import tqdm\n",
        "import wave\n",
        "import os\n",
        "import json\n",
        "\n",
        "def transcript_file(input_file, model_path):\n",
        "\n",
        "    # Check if file exists\n",
        "    if not os.path.isfile(input_file):\n",
        "        raise FileNotFoundError(os.path.basename(input_file) + \" not found\")\n",
        "\n",
        "    # Check if model path exists\n",
        "    if not os.path.exists(model_path):\n",
        "        raise FileNotFoundError(os.path.basename(model_path) + \" not found\")\n",
        "\n",
        "    # open audio file\n",
        "    wf = wave.open(input_file, \"rb\")\n",
        "\n",
        "    # check if wave file has the right properties\n",
        "    if wf.getnchannels() != 1 or wf.getsampwidth() != 2 or wf.getcomptype() != \"NONE\":\n",
        "        raise TypeError(\"Audio file must be WAV format mono PCM.\")\n",
        "\n",
        "    # Initialize model\n",
        "    model = Model(model_path)\n",
        "    rec = KaldiRecognizer(model, wf.getframerate())\n",
        "\n",
        "    # Get file size (to calculate progress bar)\n",
        "    file_size = os.path.getsize(input_file)\n",
        "\n",
        "    # Run transcription\n",
        "    pbar = tqdm(total=file_size)\n",
        "\n",
        "    # To store our results\n",
        "    transcription = []\n",
        "\n",
        "    while True:\n",
        "        data = wf.readframes(4000) # use buffer of 4000\n",
        "        pbar.update(len(data))\n",
        "        if len(data) == 0:\n",
        "            pbar.set_description(\"Transcription finished\")\n",
        "            break\n",
        "        if rec.AcceptWaveform(data):\n",
        "            # Convert json output to dict\n",
        "            result_dict = json.loads(rec.Result())\n",
        "            # Extract text values and append them to transcription list\n",
        "            transcription.append(result_dict.get(\"text\", \"\"))\n",
        "\n",
        "    # Get final bits of audio and flush the pipeline\n",
        "    final_result = json.loads(rec.FinalResult())\n",
        "    transcription.append(final_result.get(\"text\", \"\"))\n",
        "\n",
        "    transcription_text = ' '.join(transcription)\n",
        "\n",
        "    return transcription_text"
      ],
      "metadata": {
        "id": "ORyk1jDslWwO"
      },
      "execution_count": 4,
      "outputs": []
    },
    {
      "cell_type": "code",
      "source": [
        "transcription = transcript_file(wave_file, '/content/models/vosk-model-fa-0.5')"
      ],
      "metadata": {
        "colab": {
          "base_uri": "https://localhost:8080/",
          "height": 49,
          "referenced_widgets": [
            "2d21d1f86f8b4ddca98636b889af13a5",
            "b80c5ba9de6a4b0891109ab3846a5e81",
            "3eac2bdeec3e407aa562948cc6d025f3",
            "87652972736c486898d1a822aaf9fc06",
            "112591e9935547669316f3346ff4fec9",
            "1c5e418a622141e8a96ed30b94373571",
            "5311bd48f7a14b018daa10e304f6a686",
            "b8da105f226246e18629e327bf511dd7",
            "a8ccbda7bd304b3c953cdce54c54e776",
            "df4aff1eb0ae422ab31675060f08a89b",
            "3ce7e736ab8845b9a72ed71ccec3847e"
          ]
        },
        "id": "XCWKxHEIleZw",
        "outputId": "a27208a1-4383-4b90-b9f8-4c3807ab2357"
      },
      "execution_count": 10,
      "outputs": [
        {
          "output_type": "display_data",
          "data": {
            "text/plain": [
              "  0%|          | 0/26858092 [00:00<?, ?it/s]"
            ],
            "application/vnd.jupyter.widget-view+json": {
              "version_major": 2,
              "version_minor": 0,
              "model_id": "2d21d1f86f8b4ddca98636b889af13a5"
            }
          },
          "metadata": {}
        }
      ]
    },
    {
      "cell_type": "code",
      "source": [
        "print(transcription)"
      ],
      "metadata": {
        "colab": {
          "base_uri": "https://localhost:8080/"
        },
        "id": "Cwc-qfekrNh-",
        "outputId": "82465137-ca45-466e-9c5d-00a522e7ae81"
      },
      "execution_count": 13,
      "outputs": [
        {
          "output_type": "stream",
          "name": "stdout",
          "text": [
            "است که توسط عده وزارت ورزش و جوانان پیشنهاد شده استخدام تعدادی بن مایه های موردی داریم قانونی که تصویب شد و با مدل ملی پارا المپیک کرد که ملی المپیک منتظر شد و در قانون شد او از آسمان قشم یا تصویری از بحث و بررسی که نسخه اش شهرت پنج مرد خفاشی دادگاه رسید حالا دوستان دعوا و یا اصلاحات داری خوب انجام دادن به اعتصاب رهبر خواهش می کنم لطف بعد دم در او و این تغییرات که چقدر دوام منطبق با با به به نبی است و منشورها  بین وقتی هم نیز تشکیل شده اید افسری گرگ بالا اصلاح کنید یعنی به تولید و به دعوت برخورد بد باشد البته در کل یال دوستم زاد کشورم هایی دیده باشید ولی به فراگرد این اصلاحیه ندارید و من که امروز باید همان فرایندی که اراده اصل اساسنامه رعایت شده بوده و با رعایت شغل بحث آیا قراردادها تاجیک متن بسم الله الرحمان الرحیم صدای معمول دهید آیا دو برای صدای شما را در من بفرمایید او مرحمت شما و همکاران علی عماد در این جلسه السلام دارم صبح بخیر و ممنون از تشکیل این جلسه و بیدادگری جناب‌عالی حال همانطور که همه ما اشاره فرمودید این اساسنامه کمیته ملی المپیک بعد از ر تصویب از سوی دولت ابلاغ شد و الان مبنایی کاره کمیته ملی پارا المپیک بدل قانونی که در مجلس شورای اسلامی متحول شد و کمیته ملی پارا المپیک و منتظر گردد کمیته ملی المپیک الان مامان یک نهاد عمومی غیر دولتی مشغول به فعالیت خوب به همسرم که با اقتدار دارید به ریاست این کمیته بردی هوایی از خودروی اول و حوصله هاست که الان مختلف محدود هر موقع هتل بهار در اینجا نمان فرمول امور دارند آن‌ها جامع گناوه های دهه عرضه در کت سابق کمیته بال کردن در خدمت هستیم دلایلی داشت آقای دکتر و داده برداری از له بازنگری خیلی جزیی مواردی در اساس نامه بود که در مرگ من اهل میره در بلند مدت رها شد و یا مصوب شد که این اصلاحات ای که می تونه در انجام بهتر امور حکومتی که بارندگی تعطیل بردار با که این اصلاحات در اساسنامه به لحاظ بوده که برای اینکه این کمیته بدون کار خودش رو با سهولت بیشتری انجام بدین ندا به همین دلیل این پیشنهادی توسط مردی که ملی پارا المپیک مطرح شد که از گوش گاری‌اش قبلا توی کمیته های کاری خود قومی‌که پرو علوی انجام شده بود حتماً نیاز بود که تغییرات به مرگ مجمع تو مجمع مطرح بشه که این کار هم انجام را در مجمع قبلی پارلمانی و نهایتا در بند این پیشنهادات ارائه شده بدیع‌ترین اصلاح ادم ازاد هگلی یعنی تغییر معاویه چندانی در ر فعالیت فیزیکی بر علوی نداره برخی موارد کم در واقع به جهت تدبیر با فعالیت که مربوط به کمیته بین‌المللی المپیک هر ماهیتی دیدی داریم دیگر نشناخت برونتی کمدی که این در واقع عینک‌های تیره رو نداره عالی برای بلیت کمیته های ملی عنوان را هم دوستان ما در این اصلاحات پیشنهادی لحاظ گردد لذا من کارهایی بکنند که یک تودیع ایران و غرب اتریش بعد از عرایض بنده آقای خاتمی و با بفرما هم راجع به کلیات ای من برخی مواردی که ضروری به صورت جادویی و بعد هم اگر شما یک گیره بعدی این موارد اصلاحات یک بررسی بشه و شعله‌ور جمع‌بندی بشی شورای عالی مناطق آزاد کشور ایران زانو وارد می کنند قانون در واقع گفته بود افزایش ریسک ذاتی ورزش و کمیته ملی المپیک الان که اون قسمت حقوقی خود را به کسب کردیم وزارت بهداشت درمان و لاغر شدن شما بفرمایید با دقت در تغییرات اقتصادی افراد این رهبر مربع خدمت فرم حرام شماره من را انگار تحقق باشد نسیم آماده می کنم که معادل محمدی به طور جامع گرگان آمد حک می کنم توی قسمت ببین بعدش خیلی ساده است مثلا من نفهمیدم ببینیم اساسنامه دبیر اجرایی آنها میشه بر روی صفحه بر اشتباهی به دلیل این سیستم اداری نقض وجود میاره بدیهایش قانونی اشکال داره مثلا تو ماده بیست و بیست و یک دفعه هنگام ثابت روش هزینه دار درگاه امدادی ثابت در نهاد های عمومی غیر دولتی ذی حساب هفته اینجا یه اختلاف سه ماه و حقوقی تو سیستم ما را به دامنه جنوبی عرض کنم خدمت شما بعضی ها مثلا اعضای هیئت رئیسه است که اساسنامه پن تمام به دلفین‌ها هیئت رئیسه تعریف شده تو اساسنامه حالا دیگران هیئت رئیسه تعیین شده اما سفره و برش انواع حجاری مدیره هیئت مدیره نوشته وجودی اجرایی حزب عدیده نوشته پدر که ما داریم لذا هم با اساسنامه فدراسیون پلوتونیوم مغایر هفته هم با همه چیز داخلی اساسنامه ابتدا نوع جدیدی از بیضه اما صفه اشاره کرد نماینده هیئت مدیرۀ دبیر هیات مدیره ای در پیداکردن ها حاکم نیست و وجود خارجی ندارد روزنامه ندهیم گاه این اشکالاتی بود که مجمع روحانیون و درنهایت اشاره کردند یک رفراندم که میوه می گن به همراه افزایش ساختار بین المللی کمیته معماری پارامتریک الان تلویزیون های ملی و بین المللی مسئولیتی ورزش معلولین در جهان به عهده می گیرند در ایران هم حدود دو ساله این اتفاق افتاده اما ربشه معلولین روش بیمار یا که به کرم تو فدراسیون ملی چون به فعالیت می‌کنید یک تهدید گوشت بره دنبال و معلولی نیست لذا برای هیات اجرایی کمیته ملی حالتی اون فدراسیون ها ما باید اند ها بشن تا بتونم تو سیاست های لازم را پیاده می‌کند بدان بند بند ب این میان هیچ چیزی را به ما نکردیم آلودگی دوباره بقیه اسلحه را در از املای نمیشه گفت پول گفته هیات مدیره حدودی که مثلا در یک کلام مصوب دبیر اجرایی نظرم الان هم دبیر اجرایی بوده نامه ارسالی ارسال و نود و پنجم دلیل اجرایی بوده هر معلم دبیر اجرایی تسلیم شدن هوای سرد و گرم دکور و این آیه مقدار اشکال حقوقی وجود میاره چابک جابری برویم سراغ است آیا می اف را ببندیم سلام خدمت اعضای محترم جلسه من فقط هایت جون نزدیک های بزرگ و در موضوع بحث خزانه دار و سان گفتن دارد و ضربه الان خوبه نخستین و عرض کردم که نکته که آقای خود را روان و فرمودند در مورد ذی حساب آب و غذا دار خوب این دو حالت شات از خاطره چون رفته این نکته اش این مشکل اگر رسیدیم من عرض می‌کنم لوکشین بود که چون کمیته پارالمپیک نهاد عمومی غیر دولتی است یکسری منابع غیر دولتی دارای یکسری منابع کمک دولتی دارد اما نسل او مواردی را که مربوط به منابع دولتی بود قرار شد که ذی حساب در واقع امضا کنه مواردی که غیر دولتی از منابع غیر دولتی نیاز به حساب نداره و خزانه دار تایید می‌کند لذا به نظر یعنی با علم و آگاهی تنظیم شد و اینکه اشکالی ایجاد شد حالا این بیرون توی مرد پیری دو چشم عمل می ما را قبل و بعد ماده یک بنده ظالم ماده یک در تعریف خبره ورزشی قبله ورزشی من متن اسلامگرا می‌کنم فردی متخصص مجرد و صاحب نظر در امور ورزش که طبق آیین نامه مصاحبه بوجود هیئت اجرایی کمیته تعیین می‌شود که قبل داستان‌های ورزشی زیرا میلیا سیری جهانی و سایر مراجع ذیصلاح بین بانکی ساخته می‌شود این الان شما از این نهر برای معتادان به جای آیین نامه‌ها برای مصور که پای بار طول فرآیند انتخاب انجام بشه از نظر شکل داخلی و شکل بین المللی است که این انتخاب سلیقه نباید دست‌مایه‌های سلیقه ای علمی الان گفتید درصدی به دانایی ورزش چیزی را به ملی آسیایی یا جهانی نباید به مویی بند دیگر این بخش به بررسی ارنست همینگوی ببینید قبلا بوده که این خبر ورزشی هم هست فدراسیون های ورزشی ربط ملی و اختیاری یا جهان عینی سوال مراجع جواب به این عنوان شناخته میشه این آنان گرفته گفت تو جواب آن نام‌هایی که مصمم به هیئت اجرائی اشکال چی بوده و یا خوب نهال اسیایی جهانی فوتبال گیلان بهش آقای دکتر ببینید مرحوم آیین نامه در میگن همین مواردی که تو بدیهی است در این محل اعمال میشه یعنی بهمن بود اومدم همه مشخصاتی که ما باید برای خمره و لوله‌کشی در نظر بگیریم رو گفتن می بریم یا آیین نامه این آیین نامه را به ترتیب اولویت اجرایی کمیته پرو اعلم پیش میرسونیم که دیگر اعمال سلیقه خاص نشود که خمره ای که آسیایی باشد که گیاهانی با که یا خیر مدینه هم میبرن تو دل اون آیین نامه فقط یاد نکته مهم اینه که خوب در اوردند ام تو قالب یک آیین نامه گفتند ما تعریف می‌کنیم شرایطی شما میگی نحوه انتخاب نمونه‌ی این کمی غربی کلی و بوم و برنده یعنی بااینکه نوشته خمره ای فرد متخصص مجرب و صاحب نظر در امور ورزشی توسط پدال‌های ورق‌های به این عنوان شناخته می‌شوند بازیگر انتخاب می‌کنیم نه اون انتقادها یک به طلا جور یادبگیرید که اینا گفتن کرد این بند ربات می بریم در قالب یک آیین نامه معتبر اجرایی که اون هم قدرت امضا می‌کنیم هر شرایطی را می هم نحوه تابش میگی دکتر اوست خواهش می می‌کنم من الان آمدند ظاهرا برای جلسه دولت خوام که در واقع چک و رو انجام بدم ما باید بریم پایین باشد تومای توسط دهلوی قدر میشم میرم پایین شدن راهی آماتوری با دوستان وزارت کشور هستند یا نه دوستان در چشم بقیه عاملی داشتید تو استعلام که فرستاده بودیم  منابع فرمایید دوستان وزارت کشور آنانکه قلم برق اعضای تعاون چون خیلی خوب بود خب ما ماده بعد من بخوانم بهره ببرد ماده ارسال و پیگیری شده شده بررسی و ارزیابی گزارش عملکرد در بیانیه کمیته به وسیله دبیر اجرایی به مجمع ارائه می‌شود قبلاً دعوی کند بوده که درواقع اصلاح عبارت ای که عنوان مقاله یعنی دبیر کل ندارد\n"
          ]
        }
      ]
    }
  ]
}